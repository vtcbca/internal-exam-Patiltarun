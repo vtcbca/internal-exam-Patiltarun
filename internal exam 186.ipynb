{
 "cells": [
  {
   "cell_type": "markdown",
   "id": "4bee5da2-5dac-46c2-9dc1-92b3470e5db6",
   "metadata": {},
   "source": [
    "Create Bca.txt. Write 5 lines directly and 5 lines must be taken from user. print the smallest and largest word in this file."
   ]
  },
  {
   "cell_type": "code",
   "execution_count": 2,
   "id": "a93cd7e6-1057-4200-b8f2-a36089741720",
   "metadata": {},
   "outputs": [],
   "source": [
    "f=open(\"D:/257/sqlite3/186data/bca.txt\",\"w\")"
   ]
  },
  {
   "cell_type": "code",
   "execution_count": 3,
   "id": "e0585c7a-b9c3-498f-805f-220a5e809501",
   "metadata": {},
   "outputs": [
    {
     "data": {
      "text/plain": [
       "23"
      ]
     },
     "execution_count": 3,
     "metadata": {},
     "output_type": "execute_result"
    }
   ],
   "source": [
    "f.write(\"this is a semple file,\\n\")"
   ]
  },
  {
   "cell_type": "code",
   "execution_count": 4,
   "id": "d5c48e69-e17a-42c4-a553-eb0132d043ee",
   "metadata": {},
   "outputs": [
    {
     "data": {
      "text/plain": [
       "30"
      ]
     },
     "execution_count": 4,
     "metadata": {},
     "output_type": "execute_result"
    }
   ],
   "source": [
    "f.write(\"it contains 5 lines directly,\\n\")"
   ]
  },
  {
   "cell_type": "code",
   "execution_count": 5,
   "id": "8d655c92-51fd-4dff-b416-2b08e4241167",
   "metadata": {},
   "outputs": [
    {
     "data": {
      "text/plain": [
       "27"
      ]
     },
     "execution_count": 5,
     "metadata": {},
     "output_type": "execute_result"
    }
   ],
   "source": [
    "f.write(\"it contains 5 lines directly,\\n\")\n",
    "f.write(\"and 5 lines from two user,\\n\")"
   ]
  },
  {
   "cell_type": "code",
   "execution_count": 7,
   "id": "6bb9b80c-aee9-4f51-9553-3610ede2ab37",
   "metadata": {},
   "outputs": [
    {
     "data": {
      "text/plain": [
       "36"
      ]
     },
     "execution_count": 7,
     "metadata": {},
     "output_type": "execute_result"
    }
   ],
   "source": [
    "f.write(\"it contains 5 lines directly,\\n\")\n",
    "f.write(\"and 5 lines from two user,\\n\")\n",
    "f.write(\"the smallest and largest word will be printed,\\n\")\n",
    "f.write(\"the file is created by bca student,\\n\")"
   ]
  },
  {
   "cell_type": "code",
   "execution_count": 8,
   "id": "0a730728-e76f-4ab5-841b-0a5bfba68f28",
   "metadata": {},
   "outputs": [],
   "source": [
    "l=[]"
   ]
  },
  {
   "cell_type": "markdown",
   "id": "594c95ad-c6c4-4622-a751-cdd316301249",
   "metadata": {},
   "source": [
    "take 5 input from user"
   ]
  },
  {
   "cell_type": "code",
   "execution_count": 12,
   "id": "005f7967-d2bb-433c-ae1b-6780b90b263e",
   "metadata": {},
   "outputs": [
    {
     "name": "stdin",
     "output_type": "stream",
     "text": [
      "enter motence from user 1234\n",
      "enter motence from user 23445\n",
      "enter motence from user 445566\n",
      "enter motence from user 5676546\n",
      "enter motence from user 78965438\n"
     ]
    }
   ],
   "source": [
    "for i in range(5):\n",
    "    s=input(\"enter motence from user\")\n",
    "    l.append(5)"
   ]
  },
  {
   "cell_type": "code",
   "execution_count": 13,
   "id": "f3690896-596a-49cb-86d4-cf1e3668cda1",
   "metadata": {},
   "outputs": [],
   "source": [
    "f=open(\"D:/257/sqlite3/186data/bca.txt\",\"r\")\n",
    "       "
   ]
  },
  {
   "cell_type": "code",
   "execution_count": 14,
   "id": "ec5c8175-7857-4795-ad7e-3da163e62370",
   "metadata": {},
   "outputs": [],
   "source": [
    "lines=f.readline()"
   ]
  },
  {
   "cell_type": "code",
   "execution_count": 15,
   "id": "d0a5a227-5c8f-4c27-abbd-d8e001546caf",
   "metadata": {},
   "outputs": [],
   "source": [
    "word=[]"
   ]
  },
  {
   "cell_type": "code",
   "execution_count": null,
   "id": "fe4a159b-1c06-4131-ac09-1d9ce749e15f",
   "metadata": {},
   "outputs": [],
   "source": []
  }
 ],
 "metadata": {
  "kernelspec": {
   "display_name": "Python 3 (ipykernel)",
   "language": "python",
   "name": "python3"
  },
  "language_info": {
   "codemirror_mode": {
    "name": "ipython",
    "version": 3
   },
   "file_extension": ".py",
   "mimetype": "text/x-python",
   "name": "python",
   "nbconvert_exporter": "python",
   "pygments_lexer": "ipython3",
   "version": "3.9.6"
  }
 },
 "nbformat": 4,
 "nbformat_minor": 5
}
